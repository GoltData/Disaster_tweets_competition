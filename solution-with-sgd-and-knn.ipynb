{
 "cells": [
  {
   "cell_type": "code",
   "execution_count": 1,
   "id": "eb3885d0",
   "metadata": {
    "_cell_guid": "b1076dfc-b9ad-4769-8c92-a6c4dae69d19",
    "_uuid": "8f2839f25d086af736a60e9eeb907d3b93b6e0e5",
    "execution": {
     "iopub.execute_input": "2024-08-16T15:50:08.181887Z",
     "iopub.status.busy": "2024-08-16T15:50:08.181460Z",
     "iopub.status.idle": "2024-08-16T15:50:10.651266Z",
     "shell.execute_reply": "2024-08-16T15:50:10.649997Z"
    },
    "papermill": {
     "duration": 2.482981,
     "end_time": "2024-08-16T15:50:10.654731",
     "exception": false,
     "start_time": "2024-08-16T15:50:08.171750",
     "status": "completed"
    },
    "tags": []
   },
   "outputs": [
    {
     "name": "stdout",
     "output_type": "stream",
     "text": [
      "/kaggle/input/nlp-getting-started/sample_submission.csv\n",
      "/kaggle/input/nlp-getting-started/train.csv\n",
      "/kaggle/input/nlp-getting-started/test.csv\n"
     ]
    }
   ],
   "source": [
    "# This Python 3 environment comes with many helpful analytics libraries installed\n",
    "# It is defined by the kaggle/python Docker image: https://github.com/kaggle/docker-python\n",
    "# For example, here's several helpful packages to load\n",
    "\n",
    "import numpy as np # linear algebra\n",
    "import pandas as pd # data processing, CSV file I/O (e.g. pd.read_csv)\n",
    "import seaborn as sns # visualization\n",
    "\n",
    "# Input data files are available in the read-only \"../input/\" directory\n",
    "# For example, running this (by clicking run or pressing Shift+Enter) will list all files under the input directory\n",
    "\n",
    "import os\n",
    "for dirname, _, filenames in os.walk('/kaggle/input'):\n",
    "    for filename in filenames:\n",
    "        print(os.path.join(dirname, filename))\n",
    "\n",
    "# You can write up to 20GB to the current directory (/kaggle/working/) that gets preserved as output when you create a version using \"Save & Run All\" \n",
    "# You can also write temporary files to /kaggle/temp/, but they won't be saved outside of the current session"
   ]
  },
  {
   "cell_type": "markdown",
   "id": "3c3958ba",
   "metadata": {
    "papermill": {
     "duration": 0.009775,
     "end_time": "2024-08-16T15:50:10.675183",
     "exception": false,
     "start_time": "2024-08-16T15:50:10.665408",
     "status": "completed"
    },
    "tags": []
   },
   "source": [
    "First of all, let's look at the data. You can see, that our datasets have three columns with type \"object\" and two columns with type \"int\". And two of them have null values. Personally, I will use only \"text\" column for my prediction."
   ]
  },
  {
   "cell_type": "code",
   "execution_count": 2,
   "id": "7b3880e7",
   "metadata": {
    "execution": {
     "iopub.execute_input": "2024-08-16T15:50:10.691888Z",
     "iopub.status.busy": "2024-08-16T15:50:10.691323Z",
     "iopub.status.idle": "2024-08-16T15:50:10.809103Z",
     "shell.execute_reply": "2024-08-16T15:50:10.799624Z"
    },
    "papermill": {
     "duration": 0.130139,
     "end_time": "2024-08-16T15:50:10.812667",
     "exception": false,
     "start_time": "2024-08-16T15:50:10.682528",
     "status": "completed"
    },
    "tags": []
   },
   "outputs": [
    {
     "name": "stdout",
     "output_type": "stream",
     "text": [
      "<class 'pandas.core.frame.DataFrame'>\n",
      "RangeIndex: 7613 entries, 0 to 7612\n",
      "Data columns (total 5 columns):\n",
      " #   Column    Non-Null Count  Dtype \n",
      "---  ------    --------------  ----- \n",
      " 0   id        7613 non-null   int64 \n",
      " 1   keyword   7552 non-null   object\n",
      " 2   location  5080 non-null   object\n",
      " 3   text      7613 non-null   object\n",
      " 4   target    7613 non-null   int64 \n",
      "dtypes: int64(2), object(3)\n",
      "memory usage: 297.5+ KB\n"
     ]
    },
    {
     "data": {
      "text/html": [
       "<div>\n",
       "<style scoped>\n",
       "    .dataframe tbody tr th:only-of-type {\n",
       "        vertical-align: middle;\n",
       "    }\n",
       "\n",
       "    .dataframe tbody tr th {\n",
       "        vertical-align: top;\n",
       "    }\n",
       "\n",
       "    .dataframe thead th {\n",
       "        text-align: right;\n",
       "    }\n",
       "</style>\n",
       "<table border=\"1\" class=\"dataframe\">\n",
       "  <thead>\n",
       "    <tr style=\"text-align: right;\">\n",
       "      <th></th>\n",
       "      <th>id</th>\n",
       "      <th>keyword</th>\n",
       "      <th>location</th>\n",
       "      <th>text</th>\n",
       "      <th>target</th>\n",
       "    </tr>\n",
       "  </thead>\n",
       "  <tbody>\n",
       "    <tr>\n",
       "      <th>0</th>\n",
       "      <td>1</td>\n",
       "      <td>NaN</td>\n",
       "      <td>NaN</td>\n",
       "      <td>Our Deeds are the Reason of this #earthquake M...</td>\n",
       "      <td>1</td>\n",
       "    </tr>\n",
       "    <tr>\n",
       "      <th>1</th>\n",
       "      <td>4</td>\n",
       "      <td>NaN</td>\n",
       "      <td>NaN</td>\n",
       "      <td>Forest fire near La Ronge Sask. Canada</td>\n",
       "      <td>1</td>\n",
       "    </tr>\n",
       "    <tr>\n",
       "      <th>2</th>\n",
       "      <td>5</td>\n",
       "      <td>NaN</td>\n",
       "      <td>NaN</td>\n",
       "      <td>All residents asked to 'shelter in place' are ...</td>\n",
       "      <td>1</td>\n",
       "    </tr>\n",
       "    <tr>\n",
       "      <th>3</th>\n",
       "      <td>6</td>\n",
       "      <td>NaN</td>\n",
       "      <td>NaN</td>\n",
       "      <td>13,000 people receive #wildfires evacuation or...</td>\n",
       "      <td>1</td>\n",
       "    </tr>\n",
       "    <tr>\n",
       "      <th>4</th>\n",
       "      <td>7</td>\n",
       "      <td>NaN</td>\n",
       "      <td>NaN</td>\n",
       "      <td>Just got sent this photo from Ruby #Alaska as ...</td>\n",
       "      <td>1</td>\n",
       "    </tr>\n",
       "  </tbody>\n",
       "</table>\n",
       "</div>"
      ],
      "text/plain": [
       "   id keyword location                                               text  \\\n",
       "0   1     NaN      NaN  Our Deeds are the Reason of this #earthquake M...   \n",
       "1   4     NaN      NaN             Forest fire near La Ronge Sask. Canada   \n",
       "2   5     NaN      NaN  All residents asked to 'shelter in place' are ...   \n",
       "3   6     NaN      NaN  13,000 people receive #wildfires evacuation or...   \n",
       "4   7     NaN      NaN  Just got sent this photo from Ruby #Alaska as ...   \n",
       "\n",
       "   target  \n",
       "0       1  \n",
       "1       1  \n",
       "2       1  \n",
       "3       1  \n",
       "4       1  "
      ]
     },
     "execution_count": 2,
     "metadata": {},
     "output_type": "execute_result"
    }
   ],
   "source": [
    "tweets_csv = pd.read_csv(\"/kaggle/input/nlp-getting-started/train.csv\")\n",
    "tweets_csv.info()\n",
    "tweets_csv.head()"
   ]
  },
  {
   "cell_type": "markdown",
   "id": "f576e1ef",
   "metadata": {
    "papermill": {
     "duration": 0.010054,
     "end_time": "2024-08-16T15:50:10.832345",
     "exception": false,
     "start_time": "2024-08-16T15:50:10.822291",
     "status": "completed"
    },
    "tags": []
   },
   "source": [
    "Obviously, we have a binary classification problem, so, next, let's look at our target distribution. As we can see, both classes have approximately equal number of examples."
   ]
  },
  {
   "cell_type": "code",
   "execution_count": 3,
   "id": "89558067",
   "metadata": {
    "execution": {
     "iopub.execute_input": "2024-08-16T15:50:10.855238Z",
     "iopub.status.busy": "2024-08-16T15:50:10.853902Z",
     "iopub.status.idle": "2024-08-16T15:50:11.310075Z",
     "shell.execute_reply": "2024-08-16T15:50:11.308895Z"
    },
    "papermill": {
     "duration": 0.468926,
     "end_time": "2024-08-16T15:50:11.312583",
     "exception": false,
     "start_time": "2024-08-16T15:50:10.843657",
     "status": "completed"
    },
    "tags": []
   },
   "outputs": [
    {
     "name": "stderr",
     "output_type": "stream",
     "text": [
      "/opt/conda/lib/python3.10/site-packages/seaborn/_oldcore.py:1119: FutureWarning: use_inf_as_na option is deprecated and will be removed in a future version. Convert inf values to NaN before operating instead.\n",
      "  with pd.option_context('mode.use_inf_as_na', True):\n"
     ]
    },
    {
     "data": {
      "text/plain": [
       "<Axes: xlabel='target', ylabel='Count'>"
      ]
     },
     "execution_count": 3,
     "metadata": {},
     "output_type": "execute_result"
    },
    {
     "data": {
      "image/png": "[encoded data removed]",
      "text/plain": [
       "<Figure size 640x480 with 1 Axes>"
      ]
     },
     "metadata": {},
     "output_type": "display_data"
    }
   ],
   "source": [
    "sns.histplot(data=tweets_csv, x=\"target\")"
   ]
  },
  {
   "cell_type": "markdown",
   "id": "bea52cab",
   "metadata": {
    "papermill": {
     "duration": 0.007972,
     "end_time": "2024-08-16T15:50:11.328870",
     "exception": false,
     "start_time": "2024-08-16T15:50:11.320898",
     "status": "completed"
    },
    "tags": []
   },
   "source": [
    "Now, we will write a preprocessing function, which will clear our input text."
   ]
  },
  {
   "cell_type": "code",
   "execution_count": 4,
   "id": "1715058d",
   "metadata": {
    "execution": {
     "iopub.execute_input": "2024-08-16T15:50:11.347307Z",
     "iopub.status.busy": "2024-08-16T15:50:11.346865Z",
     "iopub.status.idle": "2024-08-16T15:50:30.167680Z",
     "shell.execute_reply": "2024-08-16T15:50:30.166033Z"
    },
    "papermill": {
     "duration": 18.833459,
     "end_time": "2024-08-16T15:50:30.170745",
     "exception": false,
     "start_time": "2024-08-16T15:50:11.337286",
     "status": "completed"
    },
    "tags": []
   },
   "outputs": [
    {
     "name": "stdout",
     "output_type": "stream",
     "text": [
      "Collecting contractions\r\n",
      "  Downloading contractions-0.1.73-py2.py3-none-any.whl.metadata (1.2 kB)\r\n",
      "Collecting textsearch>=0.0.21 (from contractions)\r\n",
      "  Downloading textsearch-0.0.24-py2.py3-none-any.whl.metadata (1.2 kB)\r\n",
      "Collecting anyascii (from textsearch>=0.0.21->contractions)\r\n",
      "  Downloading anyascii-0.3.2-py3-none-any.whl.metadata (1.5 kB)\r\n",
      "Collecting pyahocorasick (from textsearch>=0.0.21->contractions)\r\n",
      "  Downloading pyahocorasick-2.1.0-cp310-cp310-manylinux_2_5_x86_64.manylinux1_x86_64.manylinux_2_12_x86_64.manylinux2010_x86_64.whl.metadata (13 kB)\r\n",
      "Downloading contractions-0.1.73-py2.py3-none-any.whl (8.7 kB)\r\n",
      "Downloading textsearch-0.0.24-py2.py3-none-any.whl (7.6 kB)\r\n",
      "Downloading anyascii-0.3.2-py3-none-any.whl (289 kB)\r\n",
      "\u001b[2K   \u001b[90m━━━━━━━━━━━━━━━━━━━━━━━━━━━━━━━━━━━━━━━━\u001b[0m \u001b[32m289.9/289.9 kB\u001b[0m \u001b[31m8.7 MB/s\u001b[0m eta \u001b[36m0:00:00\u001b[0m\r\n",
      "\u001b[?25hDownloading pyahocorasick-2.1.0-cp310-cp310-manylinux_2_5_x86_64.manylinux1_x86_64.manylinux_2_12_x86_64.manylinux2010_x86_64.whl (110 kB)\r\n",
      "\u001b[2K   \u001b[90m━━━━━━━━━━━━━━━━━━━━━━━━━━━━━━━━━━━━━━━━\u001b[0m \u001b[32m110.7/110.7 kB\u001b[0m \u001b[31m5.2 MB/s\u001b[0m eta \u001b[36m0:00:00\u001b[0m\r\n",
      "\u001b[?25hInstalling collected packages: pyahocorasick, anyascii, textsearch, contractions\r\n",
      "Successfully installed anyascii-0.3.2 contractions-0.1.73 pyahocorasick-2.1.0 textsearch-0.0.24\r\n",
      "Note: you may need to restart the kernel to use updated packages.\n",
      "[nltk_data] Downloading package stopwords to /usr/share/nltk_data...\n",
      "[nltk_data]   Package stopwords is already up-to-date!\n",
      "[nltk_data] Downloading package punkt to /usr/share/nltk_data...\n",
      "[nltk_data]   Package punkt is already up-to-date!\n"
     ]
    }
   ],
   "source": [
    "%pip install contractions\n",
    "\n",
    "import re\n",
    "import nltk\n",
    "import contractions\n",
    "import unicodedata\n",
    "from nltk.corpus import stopwords\n",
    "from nltk.tokenize import word_tokenize\n",
    "\n",
    "nltk.download('stopwords')\n",
    "nltk.download('punkt')\n",
    "\n",
    "def clean_text(input_text):\n",
    "    clean_text = re.sub('<[^<]+?>', '', input_text)\n",
    "    clean_text = re.sub(r'http\\S+', '', clean_text)\n",
    "    clean_text = clean_text.lower()\n",
    "    clean_text = unicodedata.normalize('NFKD', clean_text).encode('ascii', 'ignore').decode('utf-8', 'ignore')\n",
    "    clean_text = contractions.fix(clean_text)\n",
    "    clean_text = re.sub('[^a-zA-Z0-9\\s]', '', clean_text)\n",
    "     \n",
    "    stop_words = set(stopwords.words('english'))\n",
    "    tokens = word_tokenize(clean_text)\n",
    "    tokens = [token for token in tokens if token not in stop_words]\n",
    "    clean_text = ' '.join(tokens)\n",
    "    \n",
    "    clean_text = re.sub(r'[^\\w\\s]', '', clean_text)\n",
    "    return clean_text"
   ]
  },
  {
   "cell_type": "code",
   "execution_count": 5,
   "id": "53f0b896",
   "metadata": {
    "execution": {
     "iopub.execute_input": "2024-08-16T15:50:30.193131Z",
     "iopub.status.busy": "2024-08-16T15:50:30.192576Z",
     "iopub.status.idle": "2024-08-16T15:50:30.205581Z",
     "shell.execute_reply": "2024-08-16T15:50:30.204394Z"
    },
    "papermill": {
     "duration": 0.027048,
     "end_time": "2024-08-16T15:50:30.208260",
     "exception": false,
     "start_time": "2024-08-16T15:50:30.181212",
     "status": "completed"
    },
    "tags": []
   },
   "outputs": [
    {
     "data": {
      "text/plain": [
       "(7613, 1)"
      ]
     },
     "execution_count": 5,
     "metadata": {},
     "output_type": "execute_result"
    }
   ],
   "source": [
    "tweets_texts = tweets_csv.loc[:, ['text']]\n",
    "tweets_texts.shape"
   ]
  },
  {
   "cell_type": "markdown",
   "id": "43b14f27",
   "metadata": {
    "papermill": {
     "duration": 0.009888,
     "end_time": "2024-08-16T15:50:30.230037",
     "exception": false,
     "start_time": "2024-08-16T15:50:30.220149",
     "status": "completed"
    },
    "tags": []
   },
   "source": [
    "Next few cells will be dedicated to the comparison of raw and preprocessed data."
   ]
  },
  {
   "cell_type": "code",
   "execution_count": 6,
   "id": "49117c1d",
   "metadata": {
    "execution": {
     "iopub.execute_input": "2024-08-16T15:50:30.252857Z",
     "iopub.status.busy": "2024-08-16T15:50:30.251873Z",
     "iopub.status.idle": "2024-08-16T15:50:30.262221Z",
     "shell.execute_reply": "2024-08-16T15:50:30.260886Z"
    },
    "papermill": {
     "duration": 0.024955,
     "end_time": "2024-08-16T15:50:30.264734",
     "exception": false,
     "start_time": "2024-08-16T15:50:30.239779",
     "status": "completed"
    },
    "tags": []
   },
   "outputs": [
    {
     "data": {
      "text/plain": [
       "[['Evacuation order lifted for town of Roosevelt: http://t.co/EDyfo6E2PU http://t.co/M5KxLPKFA1'],\n",
       " ['#breaking #LA Refugio oil spill may have been costlier bigger than projected http://t.co/5ueCmcv2Pk'],\n",
       " [\"a siren just went off and it wasn't the Forney tornado warning ??\"],\n",
       " ['Officials say a quarantine is in place at an Alabama home over a possible Ebola case after developing symptoms... http://t.co/rqKK15uhEY'],\n",
       " ['#WorldNews Fallen powerlines on G:link tram: UPDATE: FIRE crews have evacuated up to 30 passengers who were tr... http://t.co/EYSVvzA7Qm'],\n",
       " [\"on the flip side I'm at Walmart and there is a bomb and everyone had to evacuate so stay tuned if I blow up or not\"],\n",
       " ['Suicide bomber kills 15 in Saudi security site mosque - Reuters via World - Google News - Wall ... http://t.co/nF4IculOje'],\n",
       " ['#stormchase Violent Record Breaking EF-5 El Reno Oklahoma Tornado Nearly Runs Over ... - http://t.co/3SICroAaNz http://t.co/I27Oa0HISp'],\n",
       " ['Two giant cranes holding a bridge collapse into nearby homes http://t.co/STfMbbZFB5'],\n",
       " ['@aria_ahrary @TheTawniest The out of control wild fires in California even in the Northern part of the state. Very troubling.'],\n",
       " ['M1.94 [01:04 UTC]?5km S of Volcano Hawaii. http://t.co/zDtoyd8EbJ'],\n",
       " ['Police investigating after an e-bike collided with a car in Little Portugal. E-bike rider suffered serious non-life threatening injuries.'],\n",
       " ['The Latest: More Homes Razed by Northern California Wildfire - ABC News http://t.co/YmY4rSkQ3d']]"
      ]
     },
     "execution_count": 6,
     "metadata": {},
     "output_type": "execute_result"
    }
   ],
   "source": [
    "tweets_list = tweets_texts.values.tolist()\n",
    "tweets_list[7600:]"
   ]
  },
  {
   "cell_type": "code",
   "execution_count": 7,
   "id": "88f90455",
   "metadata": {
    "execution": {
     "iopub.execute_input": "2024-08-16T15:50:30.287361Z",
     "iopub.status.busy": "2024-08-16T15:50:30.286907Z",
     "iopub.status.idle": "2024-08-16T15:50:33.903918Z",
     "shell.execute_reply": "2024-08-16T15:50:33.902696Z"
    },
    "papermill": {
     "duration": 3.632303,
     "end_time": "2024-08-16T15:50:33.907082",
     "exception": false,
     "start_time": "2024-08-16T15:50:30.274779",
     "status": "completed"
    },
    "tags": []
   },
   "outputs": [
    {
     "data": {
      "text/plain": [
       "['evacuation order lifted town roosevelt',\n",
       " 'breaking la refugio oil spill may costlier bigger projected',\n",
       " 'siren went forney tornado warning',\n",
       " 'officials say quarantine place alabama home possible ebola case developing symptoms',\n",
       " 'worldnews fallen powerlines glink tram update fire crews evacuated 30 passengers tr',\n",
       " 'flip side walmart bomb everyone evacuate stay tuned blow',\n",
       " 'suicide bomber kills 15 saudi security site mosque reuters via world google news wall',\n",
       " 'stormchase violent record breaking ef5 el reno oklahoma tornado nearly runs',\n",
       " 'two giant cranes holding bridge collapse nearby homes',\n",
       " 'ariaahrary thetawniest control wild fires california even northern part state troubling',\n",
       " 'm194 0104 utc5km volcano hawaii',\n",
       " 'police investigating ebike collided car little portugal ebike rider suffered serious nonlife threatening injuries',\n",
       " 'latest homes razed northern california wildfire abc news']"
      ]
     },
     "execution_count": 7,
     "metadata": {},
     "output_type": "execute_result"
    }
   ],
   "source": [
    "preprocessed_data = [clean_text(string) for string in tweets_texts['text']]\n",
    "preprocessed_data[7600:]"
   ]
  },
  {
   "cell_type": "markdown",
   "id": "c29b3607",
   "metadata": {
    "papermill": {
     "duration": 0.009668,
     "end_time": "2024-08-16T15:50:33.927460",
     "exception": false,
     "start_time": "2024-08-16T15:50:33.917792",
     "status": "completed"
    },
    "tags": []
   },
   "source": [
    "We have to divide data in train and test sets."
   ]
  },
  {
   "cell_type": "code",
   "execution_count": 8,
   "id": "631c383d",
   "metadata": {
    "execution": {
     "iopub.execute_input": "2024-08-16T15:50:33.950228Z",
     "iopub.status.busy": "2024-08-16T15:50:33.949799Z",
     "iopub.status.idle": "2024-08-16T15:50:33.969864Z",
     "shell.execute_reply": "2024-08-16T15:50:33.968684Z"
    },
    "papermill": {
     "duration": 0.034416,
     "end_time": "2024-08-16T15:50:33.972737",
     "exception": false,
     "start_time": "2024-08-16T15:50:33.938321",
     "status": "completed"
    },
    "tags": []
   },
   "outputs": [
    {
     "name": "stdout",
     "output_type": "stream",
     "text": [
      "Size of training:  5480\n",
      "Size of test:  1371\n",
      "Size of validation:  762\n"
     ]
    }
   ],
   "source": [
    "from sklearn.model_selection import train_test_split\n",
    "X_train, X_valid, y_train, y_valid = train_test_split(preprocessed_data, tweets_csv['target'], test_size=0.1, random_state=42)\n",
    "X_train, X_test, y_train, y_test = train_test_split(X_train, y_train, test_size=0.2, random_state=42)\n",
    "print(\"Size of training: \", len(X_train))\n",
    "print(\"Size of test: \", len(X_test))\n",
    "print(\"Size of validation: \", len(X_valid))"
   ]
  },
  {
   "cell_type": "markdown",
   "id": "cb6d52e2",
   "metadata": {
    "papermill": {
     "duration": 0.010529,
     "end_time": "2024-08-16T15:50:33.993533",
     "exception": false,
     "start_time": "2024-08-16T15:50:33.983004",
     "status": "completed"
    },
    "tags": []
   },
   "source": [
    "Then we will build, train and compare two models: SGDClassifier and KNeighborsClassifier."
   ]
  },
  {
   "cell_type": "code",
   "execution_count": 9,
   "id": "af9c6e82",
   "metadata": {
    "execution": {
     "iopub.execute_input": "2024-08-16T15:50:34.016379Z",
     "iopub.status.busy": "2024-08-16T15:50:34.015904Z",
     "iopub.status.idle": "2024-08-16T15:50:34.091172Z",
     "shell.execute_reply": "2024-08-16T15:50:34.089847Z"
    },
    "papermill": {
     "duration": 0.09023,
     "end_time": "2024-08-16T15:50:34.094220",
     "exception": false,
     "start_time": "2024-08-16T15:50:34.003990",
     "status": "completed"
    },
    "tags": []
   },
   "outputs": [],
   "source": [
    "from sklearn.pipeline import Pipeline\n",
    "from sklearn.feature_extraction.text import TfidfVectorizer\n",
    "from sklearn.linear_model import SGDClassifier\n",
    "from sklearn.neighbors import KNeighborsClassifier\n",
    "from sklearn import metrics"
   ]
  },
  {
   "cell_type": "code",
   "execution_count": 10,
   "id": "91b5d29c",
   "metadata": {
    "execution": {
     "iopub.execute_input": "2024-08-16T15:50:34.121123Z",
     "iopub.status.busy": "2024-08-16T15:50:34.120114Z",
     "iopub.status.idle": "2024-08-16T15:50:34.533678Z",
     "shell.execute_reply": "2024-08-16T15:50:34.532481Z"
    },
    "papermill": {
     "duration": 0.430721,
     "end_time": "2024-08-16T15:50:34.536352",
     "exception": false,
     "start_time": "2024-08-16T15:50:34.105631",
     "status": "completed"
    },
    "tags": []
   },
   "outputs": [
    {
     "data": {
      "text/html": [
       "<style>#sk-container-id-1 {color: black;background-color: white;}#sk-container-id-1 pre{padding: 0;}#sk-container-id-1 div.sk-toggleable {background-color: white;}#sk-container-id-1 label.sk-toggleable__label {cursor: pointer;display: block;width: 100%;margin-bottom: 0;padding: 0.3em;box-sizing: border-box;text-align: center;}#sk-container-id-1 label.sk-toggleable__label-arrow:before {content: \"▸\";float: left;margin-right: 0.25em;color: #696969;}#sk-container-id-1 label.sk-toggleable__label-arrow:hover:before {color: black;}#sk-container-id-1 div.sk-estimator:hover label.sk-toggleable__label-arrow:before {color: black;}#sk-container-id-1 div.sk-toggleable__content {max-height: 0;max-width: 0;overflow: hidden;text-align: left;background-color: #f0f8ff;}#sk-container-id-1 div.sk-toggleable__content pre {margin: 0.2em;color: black;border-radius: 0.25em;background-color: #f0f8ff;}#sk-container-id-1 input.sk-toggleable__control:checked~div.sk-toggleable__content {max-height: 200px;max-width: 100%;overflow: auto;}#sk-container-id-1 input.sk-toggleable__control:checked~label.sk-toggleable__label-arrow:before {content: \"▾\";}#sk-container-id-1 div.sk-estimator input.sk-toggleable__control:checked~label.sk-toggleable__label {background-color: #d4ebff;}#sk-container-id-1 div.sk-label input.sk-toggleable__control:checked~label.sk-toggleable__label {background-color: #d4ebff;}#sk-container-id-1 input.sk-hidden--visually {border: 0;clip: rect(1px 1px 1px 1px);clip: rect(1px, 1px, 1px, 1px);height: 1px;margin: -1px;overflow: hidden;padding: 0;position: absolute;width: 1px;}#sk-container-id-1 div.sk-estimator {font-family: monospace;background-color: #f0f8ff;border: 1px dotted black;border-radius: 0.25em;box-sizing: border-box;margin-bottom: 0.5em;}#sk-container-id-1 div.sk-estimator:hover {background-color: #d4ebff;}#sk-container-id-1 div.sk-parallel-item::after {content: \"\";width: 100%;border-bottom: 1px solid gray;flex-grow: 1;}#sk-container-id-1 div.sk-label:hover label.sk-toggleable__label {background-color: #d4ebff;}#sk-container-id-1 div.sk-serial::before {content: \"\";position: absolute;border-left: 1px solid gray;box-sizing: border-box;top: 0;bottom: 0;left: 50%;z-index: 0;}#sk-container-id-1 div.sk-serial {display: flex;flex-direction: column;align-items: center;background-color: white;padding-right: 0.2em;padding-left: 0.2em;position: relative;}#sk-container-id-1 div.sk-item {position: relative;z-index: 1;}#sk-container-id-1 div.sk-parallel {display: flex;align-items: stretch;justify-content: center;background-color: white;position: relative;}#sk-container-id-1 div.sk-item::before, #sk-container-id-1 div.sk-parallel-item::before {content: \"\";position: absolute;border-left: 1px solid gray;box-sizing: border-box;top: 0;bottom: 0;left: 50%;z-index: -1;}#sk-container-id-1 div.sk-parallel-item {display: flex;flex-direction: column;z-index: 1;position: relative;background-color: white;}#sk-container-id-1 div.sk-parallel-item:first-child::after {align-self: flex-end;width: 50%;}#sk-container-id-1 div.sk-parallel-item:last-child::after {align-self: flex-start;width: 50%;}#sk-container-id-1 div.sk-parallel-item:only-child::after {width: 0;}#sk-container-id-1 div.sk-dashed-wrapped {border: 1px dashed gray;margin: 0 0.4em 0.5em 0.4em;box-sizing: border-box;padding-bottom: 0.4em;background-color: white;}#sk-container-id-1 div.sk-label label {font-family: monospace;font-weight: bold;display: inline-block;line-height: 1.2em;}#sk-container-id-1 div.sk-label-container {text-align: center;}#sk-container-id-1 div.sk-container {/* jupyter's `normalize.less` sets `[hidden] { display: none; }` but bootstrap.min.css set `[hidden] { display: none !important; }` so we also need the `!important` here to be able to override the default hidden behavior on the sphinx rendered scikit-learn.org. See: https://github.com/scikit-learn/scikit-learn/issues/21755 */display: inline-block !important;position: relative;}#sk-container-id-1 div.sk-text-repr-fallback {display: none;}</style><div id=\"sk-container-id-1\" class=\"sk-top-container\"><div class=\"sk-text-repr-fallback\"><pre>Pipeline(steps=[(&#x27;tfidf&#x27;, TfidfVectorizer()),\n",
       "                (&#x27;knb_clf&#x27;, KNeighborsClassifier(n_neighbors=10))])</pre><b>In a Jupyter environment, please rerun this cell to show the HTML representation or trust the notebook. <br />On GitHub, the HTML representation is unable to render, please try loading this page with nbviewer.org.</b></div><div class=\"sk-container\" hidden><div class=\"sk-item sk-dashed-wrapped\"><div class=\"sk-label-container\"><div class=\"sk-label sk-toggleable\"><input class=\"sk-toggleable__control sk-hidden--visually\" id=\"sk-estimator-id-1\" type=\"checkbox\" ><label for=\"sk-estimator-id-1\" class=\"sk-toggleable__label sk-toggleable__label-arrow\">Pipeline</label><div class=\"sk-toggleable__content\"><pre>Pipeline(steps=[(&#x27;tfidf&#x27;, TfidfVectorizer()),\n",
       "                (&#x27;knb_clf&#x27;, KNeighborsClassifier(n_neighbors=10))])</pre></div></div></div><div class=\"sk-serial\"><div class=\"sk-item\"><div class=\"sk-estimator sk-toggleable\"><input class=\"sk-toggleable__control sk-hidden--visually\" id=\"sk-estimator-id-2\" type=\"checkbox\" ><label for=\"sk-estimator-id-2\" class=\"sk-toggleable__label sk-toggleable__label-arrow\">TfidfVectorizer</label><div class=\"sk-toggleable__content\"><pre>TfidfVectorizer()</pre></div></div></div><div class=\"sk-item\"><div class=\"sk-estimator sk-toggleable\"><input class=\"sk-toggleable__control sk-hidden--visually\" id=\"sk-estimator-id-3\" type=\"checkbox\" ><label for=\"sk-estimator-id-3\" class=\"sk-toggleable__label sk-toggleable__label-arrow\">KNeighborsClassifier</label><div class=\"sk-toggleable__content\"><pre>KNeighborsClassifier(n_neighbors=10)</pre></div></div></div></div></div></div></div>"
      ],
      "text/plain": [
       "Pipeline(steps=[('tfidf', TfidfVectorizer()),\n",
       "                ('knb_clf', KNeighborsClassifier(n_neighbors=10))])"
      ]
     },
     "execution_count": 10,
     "metadata": {},
     "output_type": "execute_result"
    }
   ],
   "source": [
    "sgd_ppl_clf = Pipeline([\n",
    "    ('tfidf', TfidfVectorizer()),\n",
    "    ('sgd_clf', SGDClassifier(random_state=42))])\n",
    "knb_ppl_clf = Pipeline([\n",
    "    ('tfidf', TfidfVectorizer()),\n",
    "    ('knb_clf', KNeighborsClassifier(n_neighbors=10))])\n",
    "sgd_ppl_clf.fit(X_train, y_train)\n",
    "knb_ppl_clf.fit(X_train, y_train)"
   ]
  },
  {
   "cell_type": "code",
   "execution_count": 11,
   "id": "7705368c",
   "metadata": {
    "execution": {
     "iopub.execute_input": "2024-08-16T15:50:34.560082Z",
     "iopub.status.busy": "2024-08-16T15:50:34.559581Z",
     "iopub.status.idle": "2024-08-16T15:50:34.601549Z",
     "shell.execute_reply": "2024-08-16T15:50:34.600270Z"
    },
    "papermill": {
     "duration": 0.056843,
     "end_time": "2024-08-16T15:50:34.604440",
     "exception": false,
     "start_time": "2024-08-16T15:50:34.547597",
     "status": "completed"
    },
    "tags": []
   },
   "outputs": [
    {
     "name": "stdout",
     "output_type": "stream",
     "text": [
      "              precision    recall  f1-score   support\n",
      "\n",
      "           0       0.82      0.79      0.80       817\n",
      "           1       0.70      0.75      0.73       554\n",
      "\n",
      "    accuracy                           0.77      1371\n",
      "   macro avg       0.76      0.77      0.76      1371\n",
      "weighted avg       0.77      0.77      0.77      1371\n",
      "\n"
     ]
    }
   ],
   "source": [
    "predicted_sgd = sgd_ppl_clf.predict(X_test)\n",
    "print(metrics.classification_report(predicted_sgd, y_test))"
   ]
  },
  {
   "cell_type": "code",
   "execution_count": 12,
   "id": "f1d2f2ef",
   "metadata": {
    "execution": {
     "iopub.execute_input": "2024-08-16T15:50:34.627685Z",
     "iopub.status.busy": "2024-08-16T15:50:34.627223Z",
     "iopub.status.idle": "2024-08-16T15:50:35.332981Z",
     "shell.execute_reply": "2024-08-16T15:50:35.314771Z"
    },
    "papermill": {
     "duration": 0.720883,
     "end_time": "2024-08-16T15:50:35.336030",
     "exception": false,
     "start_time": "2024-08-16T15:50:34.615147",
     "status": "completed"
    },
    "tags": []
   },
   "outputs": [
    {
     "name": "stdout",
     "output_type": "stream",
     "text": [
      "              precision    recall  f1-score   support\n",
      "\n",
      "           0       0.90      0.76      0.82       920\n",
      "           1       0.63      0.82      0.71       451\n",
      "\n",
      "    accuracy                           0.78      1371\n",
      "   macro avg       0.76      0.79      0.77      1371\n",
      "weighted avg       0.81      0.78      0.79      1371\n",
      "\n"
     ]
    }
   ],
   "source": [
    "predicted_sgd = knb_ppl_clf.predict(X_test)\n",
    "print(metrics.classification_report(predicted_sgd, y_test))"
   ]
  },
  {
   "cell_type": "markdown",
   "id": "ada47df3",
   "metadata": {
    "papermill": {
     "duration": 0.010786,
     "end_time": "2024-08-16T15:50:35.357790",
     "exception": false,
     "start_time": "2024-08-16T15:50:35.347004",
     "status": "completed"
    },
    "tags": []
   },
   "source": [
    "We will choose SGDClassifier. Also, we can lightly improve our model, using different parameters (The result will be better in 3%)"
   ]
  },
  {
   "cell_type": "code",
   "execution_count": 13,
   "id": "25fd028f",
   "metadata": {
    "execution": {
     "iopub.execute_input": "2024-08-16T15:50:35.381195Z",
     "iopub.status.busy": "2024-08-16T15:50:35.380754Z",
     "iopub.status.idle": "2024-08-16T15:50:35.903603Z",
     "shell.execute_reply": "2024-08-16T15:50:35.902303Z"
    },
    "papermill": {
     "duration": 0.538113,
     "end_time": "2024-08-16T15:50:35.906611",
     "exception": false,
     "start_time": "2024-08-16T15:50:35.368498",
     "status": "completed"
    },
    "tags": []
   },
   "outputs": [
    {
     "name": "stdout",
     "output_type": "stream",
     "text": [
      "              precision    recall  f1-score   support\n",
      "\n",
      "           0       0.81      0.80      0.81       788\n",
      "           1       0.74      0.74      0.74       583\n",
      "\n",
      "    accuracy                           0.78      1371\n",
      "   macro avg       0.77      0.77      0.77      1371\n",
      "weighted avg       0.78      0.78      0.78      1371\n",
      "\n"
     ]
    }
   ],
   "source": [
    "sgd_ppl_clf = Pipeline([\n",
    "    ('tfidf', TfidfVectorizer(ngram_range=(1, 2))),\n",
    "    ('sgd_clf', SGDClassifier(penalty='elasticnet', class_weight='balanced', random_state=42))])\n",
    "sgd_ppl_clf.fit(X_train, y_train)\n",
    "predicted_sgd = sgd_ppl_clf.predict(X_test)\n",
    "print(metrics.classification_report(predicted_sgd, y_test))"
   ]
  },
  {
   "cell_type": "markdown",
   "id": "49574d4a",
   "metadata": {
    "papermill": {
     "duration": 0.0104,
     "end_time": "2024-08-16T15:50:35.928580",
     "exception": false,
     "start_time": "2024-08-16T15:50:35.918180",
     "status": "completed"
    },
    "tags": []
   },
   "source": [
    "Finally, we have to create our submission file "
   ]
  },
  {
   "cell_type": "code",
   "execution_count": 14,
   "id": "bccda46d",
   "metadata": {
    "execution": {
     "iopub.execute_input": "2024-08-16T15:50:35.952155Z",
     "iopub.status.busy": "2024-08-16T15:50:35.951664Z",
     "iopub.status.idle": "2024-08-16T15:50:36.133075Z",
     "shell.execute_reply": "2024-08-16T15:50:36.131821Z"
    },
    "papermill": {
     "duration": 0.196062,
     "end_time": "2024-08-16T15:50:36.135604",
     "exception": false,
     "start_time": "2024-08-16T15:50:35.939542",
     "status": "completed"
    },
    "tags": []
   },
   "outputs": [
    {
     "name": "stdout",
     "output_type": "stream",
     "text": [
      "Your submission was successfully saved\n"
     ]
    }
   ],
   "source": [
    "test_csv = pd.read_csv(\"/kaggle/input/nlp-getting-started/test.csv\")\n",
    "ids = test_csv.pop('id')\n",
    "predicted_data = sgd_ppl_clf.predict(test_csv['text'])\n",
    "output = pd.DataFrame({'id': ids, 'target': predicted_data})\n",
    "output.to_csv('submission.csv', index = False)\n",
    "print(\"Your submission was successfully saved\")"
   ]
  }
 ],
 "metadata": {
  "kaggle": {
   "accelerator": "none",
   "dataSources": [
    {
     "databundleVersionId": 869809,
     "sourceId": 17777,
     "sourceType": "competition"
    }
   ],
   "dockerImageVersionId": 30746,
   "isGpuEnabled": false,
   "isInternetEnabled": true,
   "language": "python",
   "sourceType": "notebook"
  },
  "kernelspec": {
   "display_name": "Python 3",
   "language": "python",
   "name": "python3"
  },
  "language_info": {
   "codemirror_mode": {
    "name": "ipython",
    "version": 3
   },
   "file_extension": ".py",
   "mimetype": "text/x-python",
   "name": "python",
   "nbconvert_exporter": "python",
   "pygments_lexer": "ipython3",
   "version": "3.10.13"
  },
  "papermill": {
   "default_parameters": {},
   "duration": 31.94875,
   "end_time": "2024-08-16T15:50:36.969637",
   "environment_variables": {},
   "exception": null,
   "input_path": "__notebook__.ipynb",
   "output_path": "__notebook__.ipynb",
   "parameters": {},
   "start_time": "2024-08-16T15:50:05.020887",
   "version": "2.5.0"
  }
 },
 "nbformat": 4,
 "nbformat_minor": 5
}
